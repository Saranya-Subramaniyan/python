{
 "cells": [
  {
   "cell_type": "code",
   "execution_count": null,
   "id": "20c67170-54f3-4a47-b955-afd0097f134b",
   "metadata": {},
   "outputs": [],
   "source": [
    "from pyspark.sql import SparkSession\n"
   ]
  },
  {
   "cell_type": "code",
   "execution_count": null,
   "id": "6cb3ff47-d4a1-4d85-8c69-52292bc26b02",
   "metadata": {},
   "outputs": [],
   "source": [
    "spark1 = SparkSession.builder.appName('aggs').getOrCreate()\n"
   ]
  },
  {
   "cell_type": "code",
   "execution_count": null,
   "id": "26395eab-963d-4447-b05f-f352555f4968",
   "metadata": {},
   "outputs": [],
   "source": [
    "df = spark1.read.csv('Data/sales_info.csv',inferSchema=True,header=True)\n"
   ]
  },
  {
   "cell_type": "code",
   "execution_count": 1,
   "id": "87317d6a-951f-46de-a4db-b0af2fc002e3",
   "metadata": {},
   "outputs": [
    {
     "ename": "NameError",
     "evalue": "name 'df' is not defined",
     "output_type": "error",
     "traceback": [
      "\u001b[1;31m---------------------------------------------------------------------------\u001b[0m",
      "\u001b[1;31mNameError\u001b[0m                                 Traceback (most recent call last)",
      "Cell \u001b[1;32mIn[1], line 1\u001b[0m\n\u001b[1;32m----> 1\u001b[0m \u001b[43mdf\u001b[49m\u001b[38;5;241m.\u001b[39mshow()\n",
      "\u001b[1;31mNameError\u001b[0m: name 'df' is not defined"
     ]
    }
   ],
   "source": [
    "df.show()\n"
   ]
  },
  {
   "cell_type": "code",
   "execution_count": null,
   "id": "a9b722b7-2825-4323-89b9-137a97273a01",
   "metadata": {},
   "outputs": [],
   "source": [
    "df.printSchema()\n"
   ]
  },
  {
   "cell_type": "code",
   "execution_count": null,
   "id": "c1711066-8d85-4999-8ef9-f401dcbf8ef8",
   "metadata": {},
   "outputs": [],
   "source": [
    "df.groupby('Company')\n"
   ]
  },
  {
   "cell_type": "code",
   "execution_count": null,
   "id": "cb464fec-0437-426d-a23c-c1386f2f6dba",
   "metadata": {},
   "outputs": [],
   "source": [
    "df.groupby('Company').mean()\n"
   ]
  },
  {
   "cell_type": "code",
   "execution_count": null,
   "id": "5639e562-af20-4f51-8d82-9e6f3cdb949b",
   "metadata": {},
   "outputs": [],
   "source": [
    "df.groupby('Company').count().show()\n"
   ]
  },
  {
   "cell_type": "code",
   "execution_count": null,
   "id": "94767b23-32cd-4344-be03-0dced6346879",
   "metadata": {},
   "outputs": [],
   "source": [
    "df.agg({'Sales':'sum'}).show()\n"
   ]
  },
  {
   "cell_type": "code",
   "execution_count": null,
   "id": "f577df37-d4d2-4955-9c46-602b1d75cbc9",
   "metadata": {},
   "outputs": [],
   "source": [
    "df.agg({'Sales':'max'}).show()\n"
   ]
  }
 ],
 "metadata": {
  "kernelspec": {
   "display_name": "Python 3 (ipykernel)",
   "language": "python",
   "name": "python3"
  },
  "language_info": {
   "codemirror_mode": {
    "name": "ipython",
    "version": 3
   },
   "file_extension": ".py",
   "mimetype": "text/x-python",
   "name": "python",
   "nbconvert_exporter": "python",
   "pygments_lexer": "ipython3",
   "version": "3.12.0"
  }
 },
 "nbformat": 4,
 "nbformat_minor": 5
}
