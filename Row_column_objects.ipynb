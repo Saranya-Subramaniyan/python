{
 "cells": [
  {
   "cell_type": "code",
   "execution_count": null,
   "id": "81e7532a-1ed3-4008-a42f-79401ca07fc0",
   "metadata": {},
   "outputs": [],
   "source": [
    "from pyspark.sql import SparkSession\n"
   ]
  },
  {
   "cell_type": "code",
   "execution_count": null,
   "id": "802f86ab-8f7d-4e1c-9242-e6857746034f",
   "metadata": {},
   "outputs": [],
   "source": [
    "spark1 = SparkSession.builder.appName('row_col').getOrCreate()\n"
   ]
  },
  {
   "cell_type": "code",
   "execution_count": null,
   "id": "e97d73dd-12f5-458e-af41-5ef2fd0f9d77",
   "metadata": {},
   "outputs": [],
   "source": [
    "df = spark1.read.json('Data/people.json')\n"
   ]
  },
  {
   "cell_type": "code",
   "execution_count": null,
   "id": "699467eb-d5d0-495e-8b52-49cb06ce94c2",
   "metadata": {},
   "outputs": [],
   "source": [
    "type(df['age'])\n"
   ]
  },
  {
   "cell_type": "code",
   "execution_count": null,
   "id": "43e92acb-a728-4383-b90a-392e25cd1935",
   "metadata": {},
   "outputs": [],
   "source": [
    "df.select('age')\n"
   ]
  },
  {
   "cell_type": "code",
   "execution_count": null,
   "id": "b233ec9a-3620-4203-9c71-8d0404cb5d03",
   "metadata": {},
   "outputs": [],
   "source": [
    "df.select('age').show()\n"
   ]
  },
  {
   "cell_type": "code",
   "execution_count": null,
   "id": "5351c7dd-f956-45e7-9455-82d6f6ac4963",
   "metadata": {},
   "outputs": [],
   "source": [
    "df.head(2)[0]\n"
   ]
  },
  {
   "cell_type": "code",
   "execution_count": null,
   "id": "d8cdb8b9-0496-4678-8ac1-a89baf181cde",
   "metadata": {},
   "outputs": [],
   "source": [
    "row0.asDict()\n"
   ]
  },
  {
   "cell_type": "code",
   "execution_count": null,
   "id": "4d510489-2cc0-40ef-ae37-4cc5fb025b9f",
   "metadata": {},
   "outputs": [],
   "source": [
    "df.withColumn('double_age',df['age']*2).show()\n"
   ]
  },
  {
   "cell_type": "code",
   "execution_count": null,
   "id": "1718bf2e-92ed-4d22-a31a-bb5f7f55ebb1",
   "metadata": {},
   "outputs": [],
   "source": [
    "df.withColumnRenamed('age','my_new_age').show()\n"
   ]
  },
  {
   "cell_type": "code",
   "execution_count": null,
   "id": "6fa02009-7e8a-4278-b497-0558ee8b2f63",
   "metadata": {},
   "outputs": [],
   "source": [
    "df2=df.withColumn('half_age',df['age']/2)\n",
    "df2.show()"
   ]
  },
  {
   "cell_type": "code",
   "execution_count": null,
   "id": "cf71db06-d113-4549-830d-590f0d0a4a63",
   "metadata": {},
   "outputs": [],
   "source": [
    "df2.printSchema()\n"
   ]
  },
  {
   "cell_type": "code",
   "execution_count": null,
   "id": "532eb67b-2247-49fb-bc22-a509dead6e60",
   "metadata": {},
   "outputs": [],
   "source": [
    "df2.show()"
   ]
  },
  {
   "cell_type": "code",
   "execution_count": null,
   "id": "653e7a73-ecab-4fc3-bb87-951d985a0b2a",
   "metadata": {},
   "outputs": [],
   "source": []
  }
 ],
 "metadata": {
  "kernelspec": {
   "display_name": "Python 3 (ipykernel)",
   "language": "python",
   "name": "python3"
  },
  "language_info": {
   "codemirror_mode": {
    "name": "ipython",
    "version": 3
   },
   "file_extension": ".py",
   "mimetype": "text/x-python",
   "name": "python",
   "nbconvert_exporter": "python",
   "pygments_lexer": "ipython3",
   "version": "3.12.0"
  }
 },
 "nbformat": 4,
 "nbformat_minor": 5
}
