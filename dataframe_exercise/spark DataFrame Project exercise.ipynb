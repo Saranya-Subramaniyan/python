{
 "cells": [
  {
   "cell_type": "code",
   "execution_count": null,
   "id": "b39886c2-1615-4836-9b9a-b70a78f1caf9",
   "metadata": {},
   "outputs": [],
   "source": [
    "from pyspark.sql import SparkSession\n",
    "spark = SparkSession.builder.appName(\"walmart\").getOrCreate()"
   ]
  },
  {
   "cell_type": "code",
   "execution_count": null,
   "id": "43d57212-eb6c-43e2-9809-7690b14d793a",
   "metadata": {},
   "outputs": [],
   "source": [
    "df = spark.read.csv('walmart_stock.csv',header=True,inferSchema=True)\n"
   ]
  },
  {
   "cell_type": "code",
   "execution_count": null,
   "id": "d20bac7b-688b-4af9-8e9e-dd6305d03e87",
   "metadata": {},
   "outputs": [],
   "source": [
    "df.columns\n"
   ]
  },
  {
   "cell_type": "code",
   "execution_count": null,
   "id": "f56d238a-14f0-4835-8406-309610a58dce",
   "metadata": {},
   "outputs": [],
   "source": [
    "df.printSchema()\n"
   ]
  },
  {
   "cell_type": "code",
   "execution_count": null,
   "id": "0b10b1de-a131-4636-a6f0-1b4d7ca720aa",
   "metadata": {},
   "outputs": [],
   "source": [
    "for row in df.head(5):\n",
    "    print(row)\n",
    "    print('\\n')"
   ]
  },
  {
   "cell_type": "code",
   "execution_count": null,
   "id": "09537854-5ce3-4077-ba2d-bdc6aa57319e",
   "metadata": {},
   "outputs": [],
   "source": [
    "df.describe().show()\n"
   ]
  },
  {
   "cell_type": "code",
   "execution_count": null,
   "id": "8fc9dc5a-9411-43cf-a6b2-f6298a7ed830",
   "metadata": {},
   "outputs": [],
   "source": [
    "df.describe().printSchema()\n"
   ]
  },
  {
   "cell_type": "code",
   "execution_count": null,
   "id": "db81c79f-abd9-4a03-a7f4-a7d54ac4c508",
   "metadata": {},
   "outputs": [],
   "source": [
    "from pyspark.sql.functions import format_number\n"
   ]
  },
  {
   "cell_type": "code",
   "execution_count": null,
   "id": "ba1fb81c-8bcd-419e-8448-3303c1184de2",
   "metadata": {},
   "outputs": [],
   "source": [
    "from pyspark.sql.functions import format_number\n"
   ]
  },
  {
   "cell_type": "code",
   "execution_count": null,
   "id": "bc6f8bb4-d434-4368-86b0-43612e47ef7b",
   "metadata": {},
   "outputs": [],
   "source": [
    "result = df.describe()\n",
    "result.select(result['summary'],\n",
    "              format_number(result['Open'].cast('float'),2).alias('Open'),\n",
    "              format_number(result['High'].cast('float'),2).alias('High'),\n",
    "              format_number(result['Low'].cast('float'),2).alias('Low'),\n",
    "              format_number(result['Close'].cast('float'),2).alias('Close'),\n",
    "              result['Volume'].cast('int').alias('Volume')\n",
    "             ).show()"
   ]
  },
  {
   "cell_type": "code",
   "execution_count": null,
   "id": "8095c238-d532-4fca-a010-3ec0824681ec",
   "metadata": {},
   "outputs": [],
   "source": [
    "df2 = df.withColumn(\"HV Ratio\",df[\"High\"]/df[\"Volume\"])#.show()\n",
    "# df2.show()\n",
    "df2.select('HV Ratio').show()"
   ]
  },
  {
   "cell_type": "code",
   "execution_count": null,
   "id": "8611a5a7-896a-4227-a6f1-751e82eeb07f",
   "metadata": {},
   "outputs": [],
   "source": [
    "df.orderBy(df[\"High\"].desc()).head(1)[0][0]\n"
   ]
  },
  {
   "cell_type": "code",
   "execution_count": null,
   "id": "65a9f091-ee8b-4dba-8719-44f79271a22e",
   "metadata": {},
   "outputs": [],
   "source": [
    "from pyspark.sql.functions import mean\n",
    "df.select(mean(\"Close\")).show()"
   ]
  },
  {
   "cell_type": "code",
   "execution_count": null,
   "id": "b08c7e92-4aa1-454d-9859-7320a4dd9f1a",
   "metadata": {},
   "outputs": [],
   "source": [
    "from pyspark.sql.functions import max,min\n"
   ]
  },
  {
   "cell_type": "code",
   "execution_count": null,
   "id": "7b248ccd-953e-4300-baa6-d40121dc1eda",
   "metadata": {},
   "outputs": [],
   "source": [
    "df.filter(\"Close < 60\").count()\n"
   ]
  },
  {
   "cell_type": "code",
   "execution_count": null,
   "id": "a25f828f-d74a-446e-bf1f-2b4cd5fdc43e",
   "metadata": {},
   "outputs": [],
   "source": [
    "from pyspark.sql.functions import count\n",
    "result = df.filter(df['Close'] < 60)\n",
    "result.select(count('Close')).show()"
   ]
  },
  {
   "cell_type": "code",
   "execution_count": null,
   "id": "a1bff7a2-cfb9-4517-97d6-f4357477df5c",
   "metadata": {},
   "outputs": [],
   "source": [
    "(df.filter(df[\"High\"]>80).count()*1.0/df.count())*100\n"
   ]
  },
  {
   "cell_type": "code",
   "execution_count": null,
   "id": "3250a947-8fb2-44ec-8df6-1ff3fdad57fa",
   "metadata": {},
   "outputs": [],
   "source": [
    "from pyspark.sql.functions import corr\n",
    "df.select(corr(\"High\",\"Volume\")).show()"
   ]
  }
 ],
 "metadata": {
  "kernelspec": {
   "display_name": "Python 3 (ipykernel)",
   "language": "python",
   "name": "python3"
  },
  "language_info": {
   "codemirror_mode": {
    "name": "ipython",
    "version": 3
   },
   "file_extension": ".py",
   "mimetype": "text/x-python",
   "name": "python",
   "nbconvert_exporter": "python",
   "pygments_lexer": "ipython3",
   "version": "3.12.0"
  }
 },
 "nbformat": 4,
 "nbformat_minor": 5
}
