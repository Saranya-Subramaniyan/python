{
 "cells": [
  {
   "cell_type": "code",
   "execution_count": null,
   "id": "0601cd9c-3c17-4714-af72-776d5fcc1952",
   "metadata": {},
   "outputs": [],
   "source": [
    "from pyspark import SparkContext as sc\n",
    "from pyspark.sql import SparkSession"
   ]
  },
  {
   "cell_type": "code",
   "execution_count": null,
   "id": "c18bb882-8acd-428a-bc2e-c895d12fceee",
   "metadata": {},
   "outputs": [],
   "source": [
    "spark1 = SparkSession.builder.appName('SQL').getOrCreate()\n"
   ]
  },
  {
   "cell_type": "code",
   "execution_count": null,
   "id": "77ff5bde-608c-4d07-9221-7d0dd2025c4b",
   "metadata": {},
   "outputs": [],
   "source": [
    "df = spark1.read.csv('Data/appl_stock.csv',inferSchema=True,header=True)\n"
   ]
  },
  {
   "cell_type": "code",
   "execution_count": null,
   "id": "4cd4530f-3167-46a0-87c5-2e1c1652fa06",
   "metadata": {},
   "outputs": [],
   "source": [
    "df.printSchema()\n"
   ]
  },
  {
   "cell_type": "code",
   "execution_count": null,
   "id": "74f16648-d4da-4f84-a97d-a65b78cb3240",
   "metadata": {},
   "outputs": [],
   "source": [
    "df.createOrReplaceTempView('stock')\n"
   ]
  },
  {
   "cell_type": "code",
   "execution_count": null,
   "id": "8a7280cd-1668-42df-a791-12ff51d73a53",
   "metadata": {},
   "outputs": [],
   "source": [
    "result = spark1.sql(\"SELECT * FROM stock LIMIT 5\")\n",
    "result"
   ]
  },
  {
   "cell_type": "code",
   "execution_count": null,
   "id": "e3719a0c-0d7a-4ec0-8ade-e58c628a50c2",
   "metadata": {},
   "outputs": [],
   "source": [
    "result.columns\n"
   ]
  },
  {
   "cell_type": "code",
   "execution_count": null,
   "id": "fa08d950-9b2d-481e-a70f-c6662e1433e8",
   "metadata": {},
   "outputs": [],
   "source": [
    "result.show()\n"
   ]
  },
  {
   "cell_type": "code",
   "execution_count": null,
   "id": "ff26d863-f94e-48ab-af8a-5c759404ee65",
   "metadata": {},
   "outputs": [],
   "source": [
    "count_greater_500 = spark1.sql(\"SELECT COUNT(Close) FROM stock WHERE Close > 500\").show()\n"
   ]
  },
  {
   "cell_type": "code",
   "execution_count": null,
   "id": "4248e9be-158f-46d5-82a4-37973d6c7e89",
   "metadata": {},
   "outputs": [],
   "source": [
    "avg_1 = spark1.sql(\"SELECT AVG(Open) FROM stock WHERE Volume > 120000000 OR Volume < 110000000\").show()\n"
   ]
  },
  {
   "cell_type": "code",
   "execution_count": null,
   "id": "82f32fb8-f6e5-4469-9624-ebef982ac1a0",
   "metadata": {},
   "outputs": [],
   "source": [
    "df_sales.show()\n"
   ]
  }
 ],
 "metadata": {
  "kernelspec": {
   "display_name": "Python 3 (ipykernel)",
   "language": "python",
   "name": "python3"
  },
  "language_info": {
   "codemirror_mode": {
    "name": "ipython",
    "version": 3
   },
   "file_extension": ".py",
   "mimetype": "text/x-python",
   "name": "python",
   "nbconvert_exporter": "python",
   "pygments_lexer": "ipython3",
   "version": "3.12.0"
  }
 },
 "nbformat": 4,
 "nbformat_minor": 5
}
