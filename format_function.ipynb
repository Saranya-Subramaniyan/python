{
 "cells": [
  {
   "cell_type": "code",
   "execution_count": null,
   "id": "51e79ef2-ee90-487c-9171-3c49b56035f6",
   "metadata": {},
   "outputs": [],
   "source": [
    "from pyspark.sql.functions import format_number\n"
   ]
  },
  {
   "cell_type": "code",
   "execution_count": null,
   "id": "9bc327c1-cdc5-44eb-ab5a-4f12755169ba",
   "metadata": {},
   "outputs": [],
   "source": [
    "sales_std = df.select(stddev('Sales').alias('std'))\n"
   ]
  },
  {
   "cell_type": "code",
   "execution_count": null,
   "id": "50f51c78-23c9-4ee9-b1d0-82664ba96c66",
   "metadata": {},
   "outputs": [],
   "source": [
    "sales_std\n"
   ]
  },
  {
   "cell_type": "code",
   "execution_count": null,
   "id": "e8aedfb1-a491-4549-89bd-207881e9f0d4",
   "metadata": {},
   "outputs": [],
   "source": [
    "sales_std=sales_std.select(format_number('std',2).alias('final'))\n"
   ]
  },
  {
   "cell_type": "code",
   "execution_count": null,
   "id": "5e31ccc8-08ef-417b-9601-e5a87c16735b",
   "metadata": {},
   "outputs": [],
   "source": [
    "sales_std.show()\n"
   ]
  },
  {
   "cell_type": "code",
   "execution_count": null,
   "id": "fa9c95b9-f11a-48c5-a0cf-ae895b3384ed",
   "metadata": {},
   "outputs": [],
   "source": [
    "df.show()\n"
   ]
  },
  {
   "cell_type": "code",
   "execution_count": null,
   "id": "a718e36d-8b10-4ac5-b6b3-a5044eca39ad",
   "metadata": {},
   "outputs": [],
   "source": [
    "df.orderBy('Sales').show()\n"
   ]
  },
  {
   "cell_type": "code",
   "execution_count": null,
   "id": "b5906c48-71ba-4b4c-89e9-aa95f9d3ea7e",
   "metadata": {},
   "outputs": [],
   "source": [
    "df.orderBy(df['Sales'].desc()).show()\n"
   ]
  }
 ],
 "metadata": {
  "kernelspec": {
   "display_name": "Python 3 (ipykernel)",
   "language": "python",
   "name": "python3"
  },
  "language_info": {
   "codemirror_mode": {
    "name": "ipython",
    "version": 3
   },
   "file_extension": ".py",
   "mimetype": "text/x-python",
   "name": "python",
   "nbconvert_exporter": "python",
   "pygments_lexer": "ipython3",
   "version": "3.12.0"
  }
 },
 "nbformat": 4,
 "nbformat_minor": 5
}
